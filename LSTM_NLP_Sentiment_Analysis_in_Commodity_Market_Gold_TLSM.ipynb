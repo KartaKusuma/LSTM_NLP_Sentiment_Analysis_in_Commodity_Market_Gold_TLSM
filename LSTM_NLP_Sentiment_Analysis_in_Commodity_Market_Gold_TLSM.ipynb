{
  "cells": [
    {
      "cell_type": "code",
      "execution_count": 95,
      "metadata": {
        "id": "LJ2hD_azgkb6"
      },
      "outputs": [],
      "source": [
        "import pandas as pd"
      ]
    },
    {
      "cell_type": "code",
      "execution_count": 96,
      "metadata": {
        "id": "mHj9w3ASgu8B"
      },
      "outputs": [],
      "source": [
        "# https://www.kaggle.com/datasets/ankurzing/sentiment-analysis-in-commodity-market-gold\n",
        "df = pd.read_csv('gold-dataset-sinha-khandait.csv')"
      ]
    },
    {
      "cell_type": "code",
      "execution_count": 97,
      "metadata": {
        "colab": {
          "base_uri": "https://localhost:8080/"
        },
        "id": "DFjKOPVbhdy7",
        "outputId": "190ac01d-e9ff-4e6b-99bc-c03e4b4b16b4"
      },
      "outputs": [
        {
          "output_type": "stream",
          "name": "stdout",
          "text": [
            "<class 'pandas.core.frame.DataFrame'>\n",
            "RangeIndex: 10570 entries, 0 to 10569\n",
            "Data columns (total 10 columns):\n",
            " #   Column                    Non-Null Count  Dtype \n",
            "---  ------                    --------------  ----- \n",
            " 0   Dates                     10570 non-null  object\n",
            " 1   URL                       10570 non-null  object\n",
            " 2   News                      10570 non-null  object\n",
            " 3   Price Direction Up        10570 non-null  int64 \n",
            " 4   Price Direction Constant  10570 non-null  int64 \n",
            " 5   Price Direction Down      10570 non-null  int64 \n",
            " 6   Asset Comparision         10570 non-null  int64 \n",
            " 7   Past Information          10570 non-null  int64 \n",
            " 8   Future Information        10570 non-null  int64 \n",
            " 9   Price Sentiment           10570 non-null  object\n",
            "dtypes: int64(6), object(4)\n",
            "memory usage: 825.9+ KB\n"
          ]
        }
      ],
      "source": [
        "df.info()"
      ]
    },
    {
      "cell_type": "code",
      "execution_count": 98,
      "metadata": {
        "id": "gdyDv13uhe14"
      },
      "outputs": [],
      "source": [
        "df = df.drop(columns=['Dates', 'URL', 'Price Direction Up', 'Price Direction Constant', 'Price Direction Down', 'Asset Comparision', 'Past Information', 'Future Information'])"
      ]
    },
    {
      "cell_type": "code",
      "execution_count": 99,
      "metadata": {
        "colab": {
          "base_uri": "https://localhost:8080/"
        },
        "id": "FDmfKmU-h3--",
        "outputId": "e727314b-6271-43b7-fd10-8b396d2a5aca"
      },
      "outputs": [
        {
          "output_type": "execute_result",
          "data": {
            "text/plain": [
              "positive    4412\n",
              "negative    3814\n",
              "none        1968\n",
              "neutral      376\n",
              "Name: Price Sentiment, dtype: int64"
            ]
          },
          "metadata": {},
          "execution_count": 99
        }
      ],
      "source": [
        "df['Price Sentiment'].value_counts()"
      ]
    },
    {
      "cell_type": "code",
      "execution_count": 100,
      "metadata": {
        "colab": {
          "base_uri": "https://localhost:8080/",
          "height": 424
        },
        "id": "pFuSNdfPiVtU",
        "outputId": "e1efa103-5543-4468-8788-5a8ef43c7cc4"
      },
      "outputs": [
        {
          "output_type": "execute_result",
          "data": {
            "text/plain": [
              "                                                    News  negative  neutral  \\\n",
              "0      april gold down 20 cents to settle at $1,116.1...         1        0   \n",
              "1              gold suffers third straight daily decline         1        0   \n",
              "2         Gold futures edge up after two-session decline         0        0   \n",
              "3      dent research : is gold's day in the sun comin...         0        0   \n",
              "4      Gold snaps three-day rally as Trump, lawmakers...         1        0   \n",
              "...                                                  ...       ...      ...   \n",
              "10565       gold seen falling from 3-week high this week         1        0   \n",
              "10566  dominic frisby : now looks like a good time to...         0        0   \n",
              "10567  Gold heading for worst week since November on ...         1        0   \n",
              "10568  august gold up $7.60 at $878.80 an ounce on nymex         0        0   \n",
              "10569    december gold down $1 at $749 an ounce on nymex         1        0   \n",
              "\n",
              "       none  positive  \n",
              "0         0         0  \n",
              "1         0         0  \n",
              "2         0         1  \n",
              "3         1         0  \n",
              "4         0         0  \n",
              "...     ...       ...  \n",
              "10565     0         0  \n",
              "10566     0         1  \n",
              "10567     0         0  \n",
              "10568     0         1  \n",
              "10569     0         0  \n",
              "\n",
              "[10570 rows x 5 columns]"
            ],
            "text/html": [
              "\n",
              "  <div id=\"df-bbd68c35-63b8-40bd-ace0-4ad023f8e94e\">\n",
              "    <div class=\"colab-df-container\">\n",
              "      <div>\n",
              "<style scoped>\n",
              "    .dataframe tbody tr th:only-of-type {\n",
              "        vertical-align: middle;\n",
              "    }\n",
              "\n",
              "    .dataframe tbody tr th {\n",
              "        vertical-align: top;\n",
              "    }\n",
              "\n",
              "    .dataframe thead th {\n",
              "        text-align: right;\n",
              "    }\n",
              "</style>\n",
              "<table border=\"1\" class=\"dataframe\">\n",
              "  <thead>\n",
              "    <tr style=\"text-align: right;\">\n",
              "      <th></th>\n",
              "      <th>News</th>\n",
              "      <th>negative</th>\n",
              "      <th>neutral</th>\n",
              "      <th>none</th>\n",
              "      <th>positive</th>\n",
              "    </tr>\n",
              "  </thead>\n",
              "  <tbody>\n",
              "    <tr>\n",
              "      <th>0</th>\n",
              "      <td>april gold down 20 cents to settle at $1,116.1...</td>\n",
              "      <td>1</td>\n",
              "      <td>0</td>\n",
              "      <td>0</td>\n",
              "      <td>0</td>\n",
              "    </tr>\n",
              "    <tr>\n",
              "      <th>1</th>\n",
              "      <td>gold suffers third straight daily decline</td>\n",
              "      <td>1</td>\n",
              "      <td>0</td>\n",
              "      <td>0</td>\n",
              "      <td>0</td>\n",
              "    </tr>\n",
              "    <tr>\n",
              "      <th>2</th>\n",
              "      <td>Gold futures edge up after two-session decline</td>\n",
              "      <td>0</td>\n",
              "      <td>0</td>\n",
              "      <td>0</td>\n",
              "      <td>1</td>\n",
              "    </tr>\n",
              "    <tr>\n",
              "      <th>3</th>\n",
              "      <td>dent research : is gold's day in the sun comin...</td>\n",
              "      <td>0</td>\n",
              "      <td>0</td>\n",
              "      <td>1</td>\n",
              "      <td>0</td>\n",
              "    </tr>\n",
              "    <tr>\n",
              "      <th>4</th>\n",
              "      <td>Gold snaps three-day rally as Trump, lawmakers...</td>\n",
              "      <td>1</td>\n",
              "      <td>0</td>\n",
              "      <td>0</td>\n",
              "      <td>0</td>\n",
              "    </tr>\n",
              "    <tr>\n",
              "      <th>...</th>\n",
              "      <td>...</td>\n",
              "      <td>...</td>\n",
              "      <td>...</td>\n",
              "      <td>...</td>\n",
              "      <td>...</td>\n",
              "    </tr>\n",
              "    <tr>\n",
              "      <th>10565</th>\n",
              "      <td>gold seen falling from 3-week high this week</td>\n",
              "      <td>1</td>\n",
              "      <td>0</td>\n",
              "      <td>0</td>\n",
              "      <td>0</td>\n",
              "    </tr>\n",
              "    <tr>\n",
              "      <th>10566</th>\n",
              "      <td>dominic frisby : now looks like a good time to...</td>\n",
              "      <td>0</td>\n",
              "      <td>0</td>\n",
              "      <td>0</td>\n",
              "      <td>1</td>\n",
              "    </tr>\n",
              "    <tr>\n",
              "      <th>10567</th>\n",
              "      <td>Gold heading for worst week since November on ...</td>\n",
              "      <td>1</td>\n",
              "      <td>0</td>\n",
              "      <td>0</td>\n",
              "      <td>0</td>\n",
              "    </tr>\n",
              "    <tr>\n",
              "      <th>10568</th>\n",
              "      <td>august gold up $7.60 at $878.80 an ounce on nymex</td>\n",
              "      <td>0</td>\n",
              "      <td>0</td>\n",
              "      <td>0</td>\n",
              "      <td>1</td>\n",
              "    </tr>\n",
              "    <tr>\n",
              "      <th>10569</th>\n",
              "      <td>december gold down $1 at $749 an ounce on nymex</td>\n",
              "      <td>1</td>\n",
              "      <td>0</td>\n",
              "      <td>0</td>\n",
              "      <td>0</td>\n",
              "    </tr>\n",
              "  </tbody>\n",
              "</table>\n",
              "<p>10570 rows × 5 columns</p>\n",
              "</div>\n",
              "      <button class=\"colab-df-convert\" onclick=\"convertToInteractive('df-bbd68c35-63b8-40bd-ace0-4ad023f8e94e')\"\n",
              "              title=\"Convert this dataframe to an interactive table.\"\n",
              "              style=\"display:none;\">\n",
              "        \n",
              "  <svg xmlns=\"http://www.w3.org/2000/svg\" height=\"24px\"viewBox=\"0 0 24 24\"\n",
              "       width=\"24px\">\n",
              "    <path d=\"M0 0h24v24H0V0z\" fill=\"none\"/>\n",
              "    <path d=\"M18.56 5.44l.94 2.06.94-2.06 2.06-.94-2.06-.94-.94-2.06-.94 2.06-2.06.94zm-11 1L8.5 8.5l.94-2.06 2.06-.94-2.06-.94L8.5 2.5l-.94 2.06-2.06.94zm10 10l.94 2.06.94-2.06 2.06-.94-2.06-.94-.94-2.06-.94 2.06-2.06.94z\"/><path d=\"M17.41 7.96l-1.37-1.37c-.4-.4-.92-.59-1.43-.59-.52 0-1.04.2-1.43.59L10.3 9.45l-7.72 7.72c-.78.78-.78 2.05 0 2.83L4 21.41c.39.39.9.59 1.41.59.51 0 1.02-.2 1.41-.59l7.78-7.78 2.81-2.81c.8-.78.8-2.07 0-2.86zM5.41 20L4 18.59l7.72-7.72 1.47 1.35L5.41 20z\"/>\n",
              "  </svg>\n",
              "      </button>\n",
              "      \n",
              "  <style>\n",
              "    .colab-df-container {\n",
              "      display:flex;\n",
              "      flex-wrap:wrap;\n",
              "      gap: 12px;\n",
              "    }\n",
              "\n",
              "    .colab-df-convert {\n",
              "      background-color: #E8F0FE;\n",
              "      border: none;\n",
              "      border-radius: 50%;\n",
              "      cursor: pointer;\n",
              "      display: none;\n",
              "      fill: #1967D2;\n",
              "      height: 32px;\n",
              "      padding: 0 0 0 0;\n",
              "      width: 32px;\n",
              "    }\n",
              "\n",
              "    .colab-df-convert:hover {\n",
              "      background-color: #E2EBFA;\n",
              "      box-shadow: 0px 1px 2px rgba(60, 64, 67, 0.3), 0px 1px 3px 1px rgba(60, 64, 67, 0.15);\n",
              "      fill: #174EA6;\n",
              "    }\n",
              "\n",
              "    [theme=dark] .colab-df-convert {\n",
              "      background-color: #3B4455;\n",
              "      fill: #D2E3FC;\n",
              "    }\n",
              "\n",
              "    [theme=dark] .colab-df-convert:hover {\n",
              "      background-color: #434B5C;\n",
              "      box-shadow: 0px 1px 3px 1px rgba(0, 0, 0, 0.15);\n",
              "      filter: drop-shadow(0px 1px 2px rgba(0, 0, 0, 0.3));\n",
              "      fill: #FFFFFF;\n",
              "    }\n",
              "  </style>\n",
              "\n",
              "      <script>\n",
              "        const buttonEl =\n",
              "          document.querySelector('#df-bbd68c35-63b8-40bd-ace0-4ad023f8e94e button.colab-df-convert');\n",
              "        buttonEl.style.display =\n",
              "          google.colab.kernel.accessAllowed ? 'block' : 'none';\n",
              "\n",
              "        async function convertToInteractive(key) {\n",
              "          const element = document.querySelector('#df-bbd68c35-63b8-40bd-ace0-4ad023f8e94e');\n",
              "          const dataTable =\n",
              "            await google.colab.kernel.invokeFunction('convertToInteractive',\n",
              "                                                     [key], {});\n",
              "          if (!dataTable) return;\n",
              "\n",
              "          const docLinkHtml = 'Like what you see? Visit the ' +\n",
              "            '<a target=\"_blank\" href=https://colab.research.google.com/notebooks/data_table.ipynb>data table notebook</a>'\n",
              "            + ' to learn more about interactive tables.';\n",
              "          element.innerHTML = '';\n",
              "          dataTable['output_type'] = 'display_data';\n",
              "          await google.colab.output.renderOutput(dataTable, element);\n",
              "          const docLink = document.createElement('div');\n",
              "          docLink.innerHTML = docLinkHtml;\n",
              "          element.appendChild(docLink);\n",
              "        }\n",
              "      </script>\n",
              "    </div>\n",
              "  </div>\n",
              "  "
            ]
          },
          "metadata": {},
          "execution_count": 100
        }
      ],
      "source": [
        "sentiment = pd.get_dummies(df['Price Sentiment'])\n",
        "df = pd.concat([df, sentiment], axis=1)\n",
        "df = df.drop(columns=['Price Sentiment'])\n",
        "df"
      ]
    },
    {
      "cell_type": "code",
      "execution_count": 101,
      "metadata": {
        "colab": {
          "base_uri": "https://localhost:8080/",
          "height": 424
        },
        "id": "FruQXG1viyWw",
        "outputId": "8a58fcfb-483b-4a36-fb8a-01c605a7f678"
      },
      "outputs": [
        {
          "output_type": "execute_result",
          "data": {
            "text/plain": [
              "                                                    News  negative  neutral  \\\n",
              "0              april gold down  cents to settle at    oz         1        0   \n",
              "1              gold suffers third straight daily decline         1        0   \n",
              "2         Gold futures edge up after two session decline         0        0   \n",
              "3      dent research is gold s day in the sun coming ...         0        0   \n",
              "4      Gold snaps three day rally as Trump lawmakers ...         1        0   \n",
              "...                                                  ...       ...      ...   \n",
              "10565        gold seen falling from  week high this week         1        0   \n",
              "10566  dominic frisby now looks like a good time to b...         0        0   \n",
              "10567  Gold heading for worst week since November on ...         1        0   \n",
              "10568            august gold up   at   an ounce on nymex         0        0   \n",
              "10569          december gold down  at  an ounce on nymex         1        0   \n",
              "\n",
              "       none  positive  \n",
              "0         0         0  \n",
              "1         0         0  \n",
              "2         0         1  \n",
              "3         1         0  \n",
              "4         0         0  \n",
              "...     ...       ...  \n",
              "10565     0         0  \n",
              "10566     0         1  \n",
              "10567     0         0  \n",
              "10568     0         1  \n",
              "10569     0         0  \n",
              "\n",
              "[10570 rows x 5 columns]"
            ],
            "text/html": [
              "\n",
              "  <div id=\"df-8d2b8f0d-b277-42a0-b0e7-f9d97684b94a\">\n",
              "    <div class=\"colab-df-container\">\n",
              "      <div>\n",
              "<style scoped>\n",
              "    .dataframe tbody tr th:only-of-type {\n",
              "        vertical-align: middle;\n",
              "    }\n",
              "\n",
              "    .dataframe tbody tr th {\n",
              "        vertical-align: top;\n",
              "    }\n",
              "\n",
              "    .dataframe thead th {\n",
              "        text-align: right;\n",
              "    }\n",
              "</style>\n",
              "<table border=\"1\" class=\"dataframe\">\n",
              "  <thead>\n",
              "    <tr style=\"text-align: right;\">\n",
              "      <th></th>\n",
              "      <th>News</th>\n",
              "      <th>negative</th>\n",
              "      <th>neutral</th>\n",
              "      <th>none</th>\n",
              "      <th>positive</th>\n",
              "    </tr>\n",
              "  </thead>\n",
              "  <tbody>\n",
              "    <tr>\n",
              "      <th>0</th>\n",
              "      <td>april gold down  cents to settle at    oz</td>\n",
              "      <td>1</td>\n",
              "      <td>0</td>\n",
              "      <td>0</td>\n",
              "      <td>0</td>\n",
              "    </tr>\n",
              "    <tr>\n",
              "      <th>1</th>\n",
              "      <td>gold suffers third straight daily decline</td>\n",
              "      <td>1</td>\n",
              "      <td>0</td>\n",
              "      <td>0</td>\n",
              "      <td>0</td>\n",
              "    </tr>\n",
              "    <tr>\n",
              "      <th>2</th>\n",
              "      <td>Gold futures edge up after two session decline</td>\n",
              "      <td>0</td>\n",
              "      <td>0</td>\n",
              "      <td>0</td>\n",
              "      <td>1</td>\n",
              "    </tr>\n",
              "    <tr>\n",
              "      <th>3</th>\n",
              "      <td>dent research is gold s day in the sun coming ...</td>\n",
              "      <td>0</td>\n",
              "      <td>0</td>\n",
              "      <td>1</td>\n",
              "      <td>0</td>\n",
              "    </tr>\n",
              "    <tr>\n",
              "      <th>4</th>\n",
              "      <td>Gold snaps three day rally as Trump lawmakers ...</td>\n",
              "      <td>1</td>\n",
              "      <td>0</td>\n",
              "      <td>0</td>\n",
              "      <td>0</td>\n",
              "    </tr>\n",
              "    <tr>\n",
              "      <th>...</th>\n",
              "      <td>...</td>\n",
              "      <td>...</td>\n",
              "      <td>...</td>\n",
              "      <td>...</td>\n",
              "      <td>...</td>\n",
              "    </tr>\n",
              "    <tr>\n",
              "      <th>10565</th>\n",
              "      <td>gold seen falling from  week high this week</td>\n",
              "      <td>1</td>\n",
              "      <td>0</td>\n",
              "      <td>0</td>\n",
              "      <td>0</td>\n",
              "    </tr>\n",
              "    <tr>\n",
              "      <th>10566</th>\n",
              "      <td>dominic frisby now looks like a good time to b...</td>\n",
              "      <td>0</td>\n",
              "      <td>0</td>\n",
              "      <td>0</td>\n",
              "      <td>1</td>\n",
              "    </tr>\n",
              "    <tr>\n",
              "      <th>10567</th>\n",
              "      <td>Gold heading for worst week since November on ...</td>\n",
              "      <td>1</td>\n",
              "      <td>0</td>\n",
              "      <td>0</td>\n",
              "      <td>0</td>\n",
              "    </tr>\n",
              "    <tr>\n",
              "      <th>10568</th>\n",
              "      <td>august gold up   at   an ounce on nymex</td>\n",
              "      <td>0</td>\n",
              "      <td>0</td>\n",
              "      <td>0</td>\n",
              "      <td>1</td>\n",
              "    </tr>\n",
              "    <tr>\n",
              "      <th>10569</th>\n",
              "      <td>december gold down  at  an ounce on nymex</td>\n",
              "      <td>1</td>\n",
              "      <td>0</td>\n",
              "      <td>0</td>\n",
              "      <td>0</td>\n",
              "    </tr>\n",
              "  </tbody>\n",
              "</table>\n",
              "<p>10570 rows × 5 columns</p>\n",
              "</div>\n",
              "      <button class=\"colab-df-convert\" onclick=\"convertToInteractive('df-8d2b8f0d-b277-42a0-b0e7-f9d97684b94a')\"\n",
              "              title=\"Convert this dataframe to an interactive table.\"\n",
              "              style=\"display:none;\">\n",
              "        \n",
              "  <svg xmlns=\"http://www.w3.org/2000/svg\" height=\"24px\"viewBox=\"0 0 24 24\"\n",
              "       width=\"24px\">\n",
              "    <path d=\"M0 0h24v24H0V0z\" fill=\"none\"/>\n",
              "    <path d=\"M18.56 5.44l.94 2.06.94-2.06 2.06-.94-2.06-.94-.94-2.06-.94 2.06-2.06.94zm-11 1L8.5 8.5l.94-2.06 2.06-.94-2.06-.94L8.5 2.5l-.94 2.06-2.06.94zm10 10l.94 2.06.94-2.06 2.06-.94-2.06-.94-.94-2.06-.94 2.06-2.06.94z\"/><path d=\"M17.41 7.96l-1.37-1.37c-.4-.4-.92-.59-1.43-.59-.52 0-1.04.2-1.43.59L10.3 9.45l-7.72 7.72c-.78.78-.78 2.05 0 2.83L4 21.41c.39.39.9.59 1.41.59.51 0 1.02-.2 1.41-.59l7.78-7.78 2.81-2.81c.8-.78.8-2.07 0-2.86zM5.41 20L4 18.59l7.72-7.72 1.47 1.35L5.41 20z\"/>\n",
              "  </svg>\n",
              "      </button>\n",
              "      \n",
              "  <style>\n",
              "    .colab-df-container {\n",
              "      display:flex;\n",
              "      flex-wrap:wrap;\n",
              "      gap: 12px;\n",
              "    }\n",
              "\n",
              "    .colab-df-convert {\n",
              "      background-color: #E8F0FE;\n",
              "      border: none;\n",
              "      border-radius: 50%;\n",
              "      cursor: pointer;\n",
              "      display: none;\n",
              "      fill: #1967D2;\n",
              "      height: 32px;\n",
              "      padding: 0 0 0 0;\n",
              "      width: 32px;\n",
              "    }\n",
              "\n",
              "    .colab-df-convert:hover {\n",
              "      background-color: #E2EBFA;\n",
              "      box-shadow: 0px 1px 2px rgba(60, 64, 67, 0.3), 0px 1px 3px 1px rgba(60, 64, 67, 0.15);\n",
              "      fill: #174EA6;\n",
              "    }\n",
              "\n",
              "    [theme=dark] .colab-df-convert {\n",
              "      background-color: #3B4455;\n",
              "      fill: #D2E3FC;\n",
              "    }\n",
              "\n",
              "    [theme=dark] .colab-df-convert:hover {\n",
              "      background-color: #434B5C;\n",
              "      box-shadow: 0px 1px 3px 1px rgba(0, 0, 0, 0.15);\n",
              "      filter: drop-shadow(0px 1px 2px rgba(0, 0, 0, 0.3));\n",
              "      fill: #FFFFFF;\n",
              "    }\n",
              "  </style>\n",
              "\n",
              "      <script>\n",
              "        const buttonEl =\n",
              "          document.querySelector('#df-8d2b8f0d-b277-42a0-b0e7-f9d97684b94a button.colab-df-convert');\n",
              "        buttonEl.style.display =\n",
              "          google.colab.kernel.accessAllowed ? 'block' : 'none';\n",
              "\n",
              "        async function convertToInteractive(key) {\n",
              "          const element = document.querySelector('#df-8d2b8f0d-b277-42a0-b0e7-f9d97684b94a');\n",
              "          const dataTable =\n",
              "            await google.colab.kernel.invokeFunction('convertToInteractive',\n",
              "                                                     [key], {});\n",
              "          if (!dataTable) return;\n",
              "\n",
              "          const docLinkHtml = 'Like what you see? Visit the ' +\n",
              "            '<a target=\"_blank\" href=https://colab.research.google.com/notebooks/data_table.ipynb>data table notebook</a>'\n",
              "            + ' to learn more about interactive tables.';\n",
              "          element.innerHTML = '';\n",
              "          dataTable['output_type'] = 'display_data';\n",
              "          await google.colab.output.renderOutput(dataTable, element);\n",
              "          const docLink = document.createElement('div');\n",
              "          docLink.innerHTML = docLinkHtml;\n",
              "          element.appendChild(docLink);\n",
              "        }\n",
              "      </script>\n",
              "    </div>\n",
              "  </div>\n",
              "  "
            ]
          },
          "metadata": {},
          "execution_count": 101
        }
      ],
      "source": [
        "import re\n",
        "\n",
        "df['News'] = df['News'].map(lambda x: re.sub(r'\\W+', ' ', x))\n",
        "df['News'] = df['News'].map(lambda d: re.sub(r'\\d+', '', d))\n",
        "df"
      ]
    },
    {
      "cell_type": "code",
      "execution_count": 102,
      "metadata": {
        "id": "ISHhdbOXmwAe"
      },
      "outputs": [],
      "source": [
        "text = df['News'].values\n",
        "label = df[['positive', 'negative', 'none', 'neutral']].values"
      ]
    },
    {
      "cell_type": "code",
      "execution_count": 103,
      "metadata": {
        "id": "FPWM2C3OnTYF"
      },
      "outputs": [],
      "source": [
        "from sklearn.model_selection import train_test_split\n",
        "\n",
        "text_train, text_test, label_train, label_test = train_test_split(text, label, test_size=0.2, random_state=1)"
      ]
    },
    {
      "cell_type": "code",
      "execution_count": 104,
      "metadata": {
        "id": "3I1-Ql7wnycf"
      },
      "outputs": [],
      "source": [
        "from tensorflow.keras.preprocessing.text import Tokenizer\n",
        "\n",
        "tokenizer = Tokenizer(num_words=5000, oov_token='x')\n",
        "tokenizer.fit_on_texts(text_train)\n",
        "tokenizer.fit_on_texts(text_test)\n",
        "\n",
        "seq_train = tokenizer.texts_to_sequences(text_train)\n",
        "seq_test = tokenizer.texts_to_sequences(text_test)"
      ]
    },
    {
      "cell_type": "code",
      "execution_count": 105,
      "metadata": {
        "id": "pov2Yyb0oUpv"
      },
      "outputs": [],
      "source": [
        "from tensorflow.keras.preprocessing.sequence import pad_sequences\n",
        "\n",
        "padded_train = pad_sequences(seq_train)\n",
        "padded_test = pad_sequences(seq_test)"
      ]
    },
    {
      "cell_type": "code",
      "execution_count": 106,
      "metadata": {
        "id": "WI3Wsl5nohpn"
      },
      "outputs": [],
      "source": [
        "import tensorflow as tf\n",
        "\n",
        "model = tf.keras.models.Sequential([\n",
        "    tf.keras.layers.Embedding(input_dim=5000, output_dim=16),\n",
        "    tf.keras.layers.LSTM(64),\n",
        "    tf.keras.layers.Dense(128, activation='relu'),\n",
        "    tf.keras.layers.Dropout(0.1),\n",
        "    tf.keras.layers.Dense(4, activation='softmax')\n",
        "])"
      ]
    },
    {
      "cell_type": "code",
      "execution_count": 107,
      "metadata": {
        "id": "HKwY9F54pIlm"
      },
      "outputs": [],
      "source": [
        "model.compile(\n",
        "    loss='categorical_crossentropy',\n",
        "    optimizer='adam',\n",
        "    metrics=['accuracy']\n",
        ")"
      ]
    },
    {
      "cell_type": "code",
      "execution_count": 108,
      "metadata": {
        "colab": {
          "base_uri": "https://localhost:8080/"
        },
        "id": "YYfsneeHp6ED",
        "outputId": "ae388606-02e7-4adc-eca9-541d6e1d73ca"
      },
      "outputs": [
        {
          "output_type": "stream",
          "name": "stdout",
          "text": [
            "Epoch 1/30\n",
            "265/265 - 8s - loss: 0.8583 - accuracy: 0.6211 - val_loss: 0.3911 - val_accuracy: 0.8756 - 8s/epoch - 29ms/step\n",
            "Epoch 2/30\n",
            "265/265 - 5s - loss: 0.3524 - accuracy: 0.8833 - val_loss: 0.3333 - val_accuracy: 0.8945 - 5s/epoch - 17ms/step\n",
            "Epoch 3/30\n",
            "265/265 - 4s - loss: 0.2214 - accuracy: 0.9307 - val_loss: 0.3231 - val_accuracy: 0.8997 - 4s/epoch - 15ms/step\n",
            "Epoch 4/30\n",
            "265/265 - 4s - loss: 0.1607 - accuracy: 0.9501 - val_loss: 0.3424 - val_accuracy: 0.8974 - 4s/epoch - 15ms/step\n",
            "Epoch 5/30\n",
            "265/265 - 4s - loss: 0.1233 - accuracy: 0.9605 - val_loss: 0.3569 - val_accuracy: 0.8893 - 4s/epoch - 15ms/step\n",
            "Epoch 6/30\n",
            "265/265 - 4s - loss: 0.1036 - accuracy: 0.9693 - val_loss: 0.4375 - val_accuracy: 0.8851 - 4s/epoch - 15ms/step\n",
            "Epoch 7/30\n",
            "265/265 - 4s - loss: 0.0881 - accuracy: 0.9711 - val_loss: 0.4646 - val_accuracy: 0.8917 - 4s/epoch - 15ms/step\n",
            "Epoch 8/30\n",
            "265/265 - 4s - loss: 0.0836 - accuracy: 0.9730 - val_loss: 0.4144 - val_accuracy: 0.8841 - 4s/epoch - 15ms/step\n",
            "Epoch 9/30\n",
            "265/265 - 4s - loss: 0.0739 - accuracy: 0.9765 - val_loss: 0.4818 - val_accuracy: 0.8789 - 4s/epoch - 15ms/step\n",
            "Epoch 10/30\n",
            "265/265 - 4s - loss: 0.0675 - accuracy: 0.9781 - val_loss: 0.5212 - val_accuracy: 0.8851 - 4s/epoch - 15ms/step\n",
            "Epoch 11/30\n",
            "265/265 - 4s - loss: 0.0592 - accuracy: 0.9801 - val_loss: 0.5618 - val_accuracy: 0.8841 - 4s/epoch - 15ms/step\n",
            "Epoch 12/30\n",
            "265/265 - 4s - loss: 0.0514 - accuracy: 0.9834 - val_loss: 0.5896 - val_accuracy: 0.8869 - 4s/epoch - 16ms/step\n",
            "Epoch 13/30\n",
            "265/265 - 5s - loss: 0.0463 - accuracy: 0.9866 - val_loss: 0.5916 - val_accuracy: 0.8808 - 5s/epoch - 17ms/step\n",
            "Epoch 14/30\n",
            "265/265 - 4s - loss: 0.0475 - accuracy: 0.9846 - val_loss: 0.6389 - val_accuracy: 0.8832 - 4s/epoch - 15ms/step\n",
            "Epoch 15/30\n",
            "265/265 - 5s - loss: 0.0490 - accuracy: 0.9844 - val_loss: 0.6127 - val_accuracy: 0.8765 - 5s/epoch - 19ms/step\n",
            "Epoch 16/30\n",
            "265/265 - 4s - loss: 0.0432 - accuracy: 0.9862 - val_loss: 0.6647 - val_accuracy: 0.8846 - 4s/epoch - 15ms/step\n",
            "Epoch 17/30\n",
            "265/265 - 4s - loss: 0.0388 - accuracy: 0.9869 - val_loss: 0.5759 - val_accuracy: 0.8808 - 4s/epoch - 15ms/step\n",
            "Epoch 18/30\n",
            "265/265 - 4s - loss: 0.0349 - accuracy: 0.9885 - val_loss: 0.6591 - val_accuracy: 0.8723 - 4s/epoch - 15ms/step\n",
            "Epoch 19/30\n",
            "265/265 - 5s - loss: 0.0380 - accuracy: 0.9879 - val_loss: 0.8056 - val_accuracy: 0.8685 - 5s/epoch - 19ms/step\n",
            "Epoch 20/30\n",
            "265/265 - 4s - loss: 0.0377 - accuracy: 0.9882 - val_loss: 0.6661 - val_accuracy: 0.8817 - 4s/epoch - 15ms/step\n",
            "Epoch 21/30\n",
            "265/265 - 4s - loss: 0.0265 - accuracy: 0.9916 - val_loss: 0.7436 - val_accuracy: 0.8846 - 4s/epoch - 15ms/step\n",
            "Epoch 22/30\n",
            "265/265 - 4s - loss: 0.0273 - accuracy: 0.9910 - val_loss: 0.7223 - val_accuracy: 0.8846 - 4s/epoch - 15ms/step\n",
            "Epoch 23/30\n",
            "265/265 - 4s - loss: 0.0235 - accuracy: 0.9922 - val_loss: 0.7658 - val_accuracy: 0.8798 - 4s/epoch - 15ms/step\n",
            "Epoch 24/30\n",
            "265/265 - 4s - loss: 0.0255 - accuracy: 0.9917 - val_loss: 0.8390 - val_accuracy: 0.8874 - 4s/epoch - 15ms/step\n",
            "Epoch 25/30\n",
            "265/265 - 4s - loss: 0.0233 - accuracy: 0.9928 - val_loss: 0.7809 - val_accuracy: 0.8832 - 4s/epoch - 15ms/step\n",
            "Epoch 26/30\n",
            "265/265 - 4s - loss: 0.0245 - accuracy: 0.9921 - val_loss: 0.7914 - val_accuracy: 0.8855 - 4s/epoch - 15ms/step\n",
            "Epoch 27/30\n",
            "265/265 - 4s - loss: 0.0218 - accuracy: 0.9925 - val_loss: 0.7717 - val_accuracy: 0.8798 - 4s/epoch - 15ms/step\n",
            "Epoch 28/30\n",
            "265/265 - 4s - loss: 0.0191 - accuracy: 0.9930 - val_loss: 0.8951 - val_accuracy: 0.8817 - 4s/epoch - 15ms/step\n",
            "Epoch 29/30\n",
            "265/265 - 4s - loss: 0.0182 - accuracy: 0.9933 - val_loss: 0.8404 - val_accuracy: 0.8827 - 4s/epoch - 15ms/step\n",
            "Epoch 30/30\n",
            "265/265 - 4s - loss: 0.0189 - accuracy: 0.9942 - val_loss: 0.8495 - val_accuracy: 0.8827 - 4s/epoch - 15ms/step\n"
          ]
        }
      ],
      "source": [
        "num_epochs = 30\n",
        "\n",
        "history = model.fit(\n",
        "    padded_train,\n",
        "    label_train,\n",
        "    epochs=num_epochs,\n",
        "    validation_data=(padded_test, label_test),\n",
        "    verbose=2\n",
        ")"
      ]
    },
    {
      "cell_type": "code",
      "execution_count": 109,
      "metadata": {
        "id": "jkgVnl6gqLXE",
        "colab": {
          "base_uri": "https://localhost:8080/",
          "height": 573
        },
        "outputId": "b8144ad2-513d-4074-b433-039496c57791"
      },
      "outputs": [
        {
          "output_type": "display_data",
          "data": {
            "text/plain": [
              "<Figure size 432x288 with 1 Axes>"
            ],
            "image/png": "[encoded data removed]"
          },
          "metadata": {
            "needs_background": "light"
          }
        },
        {
          "output_type": "display_data",
          "data": {
            "text/plain": [
              "<Figure size 432x288 with 1 Axes>"
            ],
            "image/png": "[encoded data removed]"
          },
          "metadata": {
            "needs_background": "light"
          }
        }
      ],
      "source": [
        "import matplotlib.pyplot as plt\n",
        "%matplotlib inline\n",
        "\n",
        "plt.plot(history.history['accuracy'])\n",
        "plt.plot(history.history['val_accuracy'])\n",
        "plt.title('Akurasi model')\n",
        "plt.ylabel('accuracy')\n",
        "plt.xlabel('epoch')\n",
        "plt.legend(['train', 'test'], loc='upper left')\n",
        "plt.show()\n",
        "\n",
        "plt.plot(history.history['loss'])\n",
        "plt.plot(history.history['val_loss'])\n",
        "plt.title('Loss model')\n",
        "plt.ylabel('loss')\n",
        "plt.xlabel('epoch')\n",
        "plt.legend(['train', 'test'], loc='upper left')\n",
        "plt.show()"
      ]
    },
    {
      "cell_type": "code",
      "execution_count": 109,
      "metadata": {
        "id": "L2vByzqFrHtH"
      },
      "outputs": [],
      "source": []
    }
  ],
  "metadata": {
    "colab": {
      "provenance": []
    },
    "kernelspec": {
      "display_name": "Python 3",
      "name": "python3"
    },
    "language_info": {
      "name": "python"
    }
  },
  "nbformat": 4,
  "nbformat_minor": 0
}